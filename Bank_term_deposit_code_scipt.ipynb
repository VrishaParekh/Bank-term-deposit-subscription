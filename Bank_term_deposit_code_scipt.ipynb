{
 "cells": [
  {
   "cell_type": "markdown",
   "metadata": {},
   "source": [
    "## Introduction\n",
    "\n",
    "## _Subscribing to a bank term deposit_\n",
    "\n",
    "### Data Science project\n"
   ]
  },
  {
   "cell_type": "markdown",
   "metadata": {},
   "source": [
    "- **1. Introduction**\n",
    "\n",
    "- **2. Exploring the data**\n",
    "\n",
    "- **3. Exploratory data analysis**\n",
    "\n",
    " - 3.1.  Describing the features\n",
    " - 3.2. Descriptive features\n",
    " \n",
    "     - 3.2.1.Box plots\n",
    "     - 3.2.2. Distribution plots\n",
    "     - 3.2.3. Correlation matrix\n",
    "     - 3.2.4. Outlier Detection\n",
    "     \n",
    " - 3.3. Feature Engineering\n",
    "     - 3.3.1. Feature transformation \n",
    "     - 3.3.2. Dropping highly correlated feature\n",
    "     - 3.3.3. Creating a new feature\n",
    "     - 3.3.4. Replacing outplut variable with new data\n",
    "     - 3.3.5. Creating dummy variables\n",
    "     \n",
    "- **4. Model Selection**\n",
    "\n",
    " - 4.1. Data preparation\n",
    " - 4.2. Creating summary metrics\n",
    " - 4.3.Fitting the baseline model\n",
    " \n",
    "     - 4.3.1. Checking the model performance\n",
    "     - 4.3.2. Creating a confusion matrix\n",
    "     \n",
    " - 4.4.Fit the model with improvised data\n",
    " \n",
    "     - 4.4.1. Using sampling techniques to balance the imbalanced classes\n",
    "     \n",
    "     - 4.4.2.  Applying Recursive Feature Elimination(RFE) with cross-fold evaluation\n",
    "     \n",
    "- **5. Describing important features**\n",
    "\n",
    "- **6. Results**\n",
    "\n",
    "- **7. Actionable Recommendations**\n",
    "     \n",
    " \n",
    " \n"
   ]
  },
  {
   "cell_type": "markdown",
   "metadata": {},
   "source": [
    "## 1. Introduction\n",
    "\n",
    "This dataset is based on \"Bank Marketing\" UCI dataset (please check the description at: http://archive.ics.uci.edu/ml/datasets/Bank+Marketing).\n",
    "   The data is enriched by the addition of five new social and economic features/attributes (national wide indicators from a ~10M population country), published by the Banco de Portugal and publicly available at https://www.bportugal.pt/estatisticasweb.\n",
    "   \n",
    "The bank runs a marketing campaign to bring customers on board with the term deposits.\n",
    "\n",
    "The binary classification goal is to predict if the client will subscribe a bank term deposit (variable y).\n",
    "\n",
    "Number of Instances: 41188 for bank-additional-full.csv\n",
    "\n",
    "Number of Attributes: 20 + output attribute.\n",
    " "
   ]
  },
  {
   "cell_type": "code",
   "execution_count": 1,
   "metadata": {},
   "outputs": [],
   "source": [
    "#Importing Libraries\n",
    "import pandas as pd\n",
    "import numpy as np\n",
    "import matplotlib.pyplot as plt\n",
    "%matplotlib inline\n",
    "import seaborn as sns\n",
    "from numpy import mean\n",
    "from numpy import std\n",
    "from scipy.stats import norm\n",
    "from sklearn import preprocessing\n",
    "from sklearn.preprocessing import StandardScaler\n",
    "from scipy.stats import boxcox\n",
    "from sklearn.model_selection import train_test_split\n",
    "from sklearn.linear_model import LogisticRegression\n",
    "from sklearn.feature_selection import RFE\n",
    "from sklearn.tree import DecisionTreeClassifier\n",
    "from sklearn.ensemble import RandomForestClassifier\n",
    "from sklearn.metrics import classification_report,confusion_matrix,recall_score,precision_score,accuracy_score\n",
    "from sklearn.pipeline import Pipeline\n",
    "from sklearn.model_selection import RepeatedStratifiedKFold\n",
    "from sklearn.model_selection import cross_val_score\n",
    "# import warnings filter\n",
    "from warnings import simplefilter\n",
    "# ignore all future warnings\n",
    "simplefilter(action='ignore', category=FutureWarning)"
   ]
  },
  {
   "cell_type": "markdown",
   "metadata": {},
   "source": [
    "## 2. Exploring the Data"
   ]
  },
  {
   "cell_type": "code",
   "execution_count": 2,
   "metadata": {},
   "outputs": [
    {
     "name": "stdout",
     "output_type": "stream",
     "text": [
      "Number of nulls in the data age               False\n",
      "job               False\n",
      "marital           False\n",
      "education         False\n",
      "default           False\n",
      "housing           False\n",
      "loan              False\n",
      "contact           False\n",
      "month             False\n",
      "day_of_week       False\n",
      "duration          False\n",
      "campaign          False\n",
      "pdays             False\n",
      "previous          False\n",
      "poutcome          False\n",
      "emp.var.rate      False\n",
      "cons.price.idx    False\n",
      "cons.conf.idx     False\n",
      "euribor3m         False\n",
      "nr.employed       False\n",
      "y                 False\n",
      "dtype: bool\n"
     ]
    }
   ],
   "source": [
    "#Loading the data\n",
    "bank_data=pd.read_csv('bank-additional-full.csv',sep=';')\n",
    "    \n",
    "#Let's have a look at our dataset to observe the summary stats for each variable, number of missing data, etc.\n",
    "print('Number of nulls in the data',bank_data.isnull().any())"
   ]
  },
  {
   "cell_type": "code",
   "execution_count": 3,
   "metadata": {},
   "outputs": [
    {
     "name": "stdout",
     "output_type": "stream",
     "text": [
      "<class 'pandas.core.frame.DataFrame'>\n",
      "RangeIndex: 41188 entries, 0 to 41187\n",
      "Data columns (total 21 columns):\n",
      " #   Column          Non-Null Count  Dtype  \n",
      "---  ------          --------------  -----  \n",
      " 0   age             41188 non-null  int64  \n",
      " 1   job             41188 non-null  object \n",
      " 2   marital         41188 non-null  object \n",
      " 3   education       41188 non-null  object \n",
      " 4   default         41188 non-null  object \n",
      " 5   housing         41188 non-null  object \n",
      " 6   loan            41188 non-null  object \n",
      " 7   contact         41188 non-null  object \n",
      " 8   month           41188 non-null  object \n",
      " 9   day_of_week     41188 non-null  object \n",
      " 10  duration        41188 non-null  int64  \n",
      " 11  campaign        41188 non-null  int64  \n",
      " 12  pdays           41188 non-null  int64  \n",
      " 13  previous        41188 non-null  int64  \n",
      " 14  poutcome        41188 non-null  object \n",
      " 15  emp.var.rate    41188 non-null  float64\n",
      " 16  cons.price.idx  41188 non-null  float64\n",
      " 17  cons.conf.idx   41188 non-null  float64\n",
      " 18  euribor3m       41188 non-null  float64\n",
      " 19  nr.employed     41188 non-null  float64\n",
      " 20  y               41188 non-null  object \n",
      "dtypes: float64(5), int64(5), object(11)\n",
      "memory usage: 6.6+ MB\n"
     ]
    }
   ],
   "source": [
    "bank_data.info()"
   ]
  },
  {
   "cell_type": "code",
   "execution_count": 4,
   "metadata": {},
   "outputs": [
    {
     "data": {
      "text/html": [
       "<div>\n",
       "<style scoped>\n",
       "    .dataframe tbody tr th:only-of-type {\n",
       "        vertical-align: middle;\n",
       "    }\n",
       "\n",
       "    .dataframe tbody tr th {\n",
       "        vertical-align: top;\n",
       "    }\n",
       "\n",
       "    .dataframe thead th {\n",
       "        text-align: right;\n",
       "    }\n",
       "</style>\n",
       "<table border=\"1\" class=\"dataframe\">\n",
       "  <thead>\n",
       "    <tr style=\"text-align: right;\">\n",
       "      <th></th>\n",
       "      <th>age</th>\n",
       "      <th>duration</th>\n",
       "      <th>campaign</th>\n",
       "      <th>pdays</th>\n",
       "      <th>previous</th>\n",
       "      <th>emp.var.rate</th>\n",
       "      <th>cons.price.idx</th>\n",
       "      <th>cons.conf.idx</th>\n",
       "      <th>euribor3m</th>\n",
       "      <th>nr.employed</th>\n",
       "    </tr>\n",
       "  </thead>\n",
       "  <tbody>\n",
       "    <tr>\n",
       "      <th>count</th>\n",
       "      <td>41188.00000</td>\n",
       "      <td>41188.000000</td>\n",
       "      <td>41188.000000</td>\n",
       "      <td>41188.000000</td>\n",
       "      <td>41188.000000</td>\n",
       "      <td>41188.000000</td>\n",
       "      <td>41188.000000</td>\n",
       "      <td>41188.000000</td>\n",
       "      <td>41188.000000</td>\n",
       "      <td>41188.000000</td>\n",
       "    </tr>\n",
       "    <tr>\n",
       "      <th>mean</th>\n",
       "      <td>40.02406</td>\n",
       "      <td>258.285010</td>\n",
       "      <td>2.567593</td>\n",
       "      <td>962.475454</td>\n",
       "      <td>0.172963</td>\n",
       "      <td>0.081886</td>\n",
       "      <td>93.575664</td>\n",
       "      <td>-40.502600</td>\n",
       "      <td>3.621291</td>\n",
       "      <td>5167.035911</td>\n",
       "    </tr>\n",
       "    <tr>\n",
       "      <th>std</th>\n",
       "      <td>10.42125</td>\n",
       "      <td>259.279249</td>\n",
       "      <td>2.770014</td>\n",
       "      <td>186.910907</td>\n",
       "      <td>0.494901</td>\n",
       "      <td>1.570960</td>\n",
       "      <td>0.578840</td>\n",
       "      <td>4.628198</td>\n",
       "      <td>1.734447</td>\n",
       "      <td>72.251528</td>\n",
       "    </tr>\n",
       "    <tr>\n",
       "      <th>min</th>\n",
       "      <td>17.00000</td>\n",
       "      <td>0.000000</td>\n",
       "      <td>1.000000</td>\n",
       "      <td>0.000000</td>\n",
       "      <td>0.000000</td>\n",
       "      <td>-3.400000</td>\n",
       "      <td>92.201000</td>\n",
       "      <td>-50.800000</td>\n",
       "      <td>0.634000</td>\n",
       "      <td>4963.600000</td>\n",
       "    </tr>\n",
       "    <tr>\n",
       "      <th>25%</th>\n",
       "      <td>32.00000</td>\n",
       "      <td>102.000000</td>\n",
       "      <td>1.000000</td>\n",
       "      <td>999.000000</td>\n",
       "      <td>0.000000</td>\n",
       "      <td>-1.800000</td>\n",
       "      <td>93.075000</td>\n",
       "      <td>-42.700000</td>\n",
       "      <td>1.344000</td>\n",
       "      <td>5099.100000</td>\n",
       "    </tr>\n",
       "    <tr>\n",
       "      <th>50%</th>\n",
       "      <td>38.00000</td>\n",
       "      <td>180.000000</td>\n",
       "      <td>2.000000</td>\n",
       "      <td>999.000000</td>\n",
       "      <td>0.000000</td>\n",
       "      <td>1.100000</td>\n",
       "      <td>93.749000</td>\n",
       "      <td>-41.800000</td>\n",
       "      <td>4.857000</td>\n",
       "      <td>5191.000000</td>\n",
       "    </tr>\n",
       "    <tr>\n",
       "      <th>75%</th>\n",
       "      <td>47.00000</td>\n",
       "      <td>319.000000</td>\n",
       "      <td>3.000000</td>\n",
       "      <td>999.000000</td>\n",
       "      <td>0.000000</td>\n",
       "      <td>1.400000</td>\n",
       "      <td>93.994000</td>\n",
       "      <td>-36.400000</td>\n",
       "      <td>4.961000</td>\n",
       "      <td>5228.100000</td>\n",
       "    </tr>\n",
       "    <tr>\n",
       "      <th>max</th>\n",
       "      <td>98.00000</td>\n",
       "      <td>4918.000000</td>\n",
       "      <td>56.000000</td>\n",
       "      <td>999.000000</td>\n",
       "      <td>7.000000</td>\n",
       "      <td>1.400000</td>\n",
       "      <td>94.767000</td>\n",
       "      <td>-26.900000</td>\n",
       "      <td>5.045000</td>\n",
       "      <td>5228.100000</td>\n",
       "    </tr>\n",
       "  </tbody>\n",
       "</table>\n",
       "</div>"
      ],
      "text/plain": [
       "               age      duration      campaign         pdays      previous  \\\n",
       "count  41188.00000  41188.000000  41188.000000  41188.000000  41188.000000   \n",
       "mean      40.02406    258.285010      2.567593    962.475454      0.172963   \n",
       "std       10.42125    259.279249      2.770014    186.910907      0.494901   \n",
       "min       17.00000      0.000000      1.000000      0.000000      0.000000   \n",
       "25%       32.00000    102.000000      1.000000    999.000000      0.000000   \n",
       "50%       38.00000    180.000000      2.000000    999.000000      0.000000   \n",
       "75%       47.00000    319.000000      3.000000    999.000000      0.000000   \n",
       "max       98.00000   4918.000000     56.000000    999.000000      7.000000   \n",
       "\n",
       "       emp.var.rate  cons.price.idx  cons.conf.idx     euribor3m   nr.employed  \n",
       "count  41188.000000    41188.000000   41188.000000  41188.000000  41188.000000  \n",
       "mean       0.081886       93.575664     -40.502600      3.621291   5167.035911  \n",
       "std        1.570960        0.578840       4.628198      1.734447     72.251528  \n",
       "min       -3.400000       92.201000     -50.800000      0.634000   4963.600000  \n",
       "25%       -1.800000       93.075000     -42.700000      1.344000   5099.100000  \n",
       "50%        1.100000       93.749000     -41.800000      4.857000   5191.000000  \n",
       "75%        1.400000       93.994000     -36.400000      4.961000   5228.100000  \n",
       "max        1.400000       94.767000     -26.900000      5.045000   5228.100000  "
      ]
     },
     "execution_count": 4,
     "metadata": {},
     "output_type": "execute_result"
    }
   ],
   "source": [
    "#Observing the stats\n",
    "bank_data.describe()"
   ]
  },
  {
   "cell_type": "markdown",
   "metadata": {},
   "source": [
    "#### From the above description following things can be observed\n",
    "\n",
    "1.Max and min age of the person in this population is 98 and 17 resp. and the mean lies around 40. So age feature might have extreme values on the left.\n",
    "\n",
    "2.Min. value of duration is 0(not contacted) and max value is 4918 indicating duration has extreme values having heavy left tails.\n",
    "\n",
    "3.Campaign might have extreme values on the left as the median is less than the mean indicating left skewed data.\n",
    "\n",
    "4.Euribo3 and nr.employed indicate right skweness."
   ]
  },
  {
   "cell_type": "code",
   "execution_count": 5,
   "metadata": {},
   "outputs": [],
   "source": [
    "modified_bank_data=bank_data.copy()"
   ]
  },
  {
   "cell_type": "code",
   "execution_count": 6,
   "metadata": {},
   "outputs": [],
   "source": [
    "#Checking if the data has duplicate values\n",
    "def duplicate_rows(df):\n",
    "    print('Number of duplicate records=',df.duplicated().sum())"
   ]
  },
  {
   "cell_type": "code",
   "execution_count": 7,
   "metadata": {},
   "outputs": [
    {
     "name": "stdout",
     "output_type": "stream",
     "text": [
      "Number of duplicate records= 12\n"
     ]
    }
   ],
   "source": [
    "duplicate_rows(modified_bank_data)"
   ]
  },
  {
   "cell_type": "code",
   "execution_count": 8,
   "metadata": {},
   "outputs": [],
   "source": [
    "#Dropping the duplicate values\n",
    "def drop_duplicates(df):\n",
    "    df=df.drop_duplicates()"
   ]
  },
  {
   "cell_type": "code",
   "execution_count": 9,
   "metadata": {},
   "outputs": [],
   "source": [
    "drop_duplicates(modified_bank_data)"
   ]
  },
  {
   "cell_type": "markdown",
   "metadata": {},
   "source": [
    "## 3. Exploratory Data Analysis(EDA)\n",
    "\n",
    "## 3.1 Describing the features"
   ]
  },
  {
   "cell_type": "code",
   "execution_count": 10,
   "metadata": {},
   "outputs": [
    {
     "data": {
      "text/plain": [
       "no     0.887346\n",
       "yes    0.112654\n",
       "Name: y, dtype: float64"
      ]
     },
     "execution_count": 10,
     "metadata": {},
     "output_type": "execute_result"
    }
   ],
   "source": [
    "#Observing the class instances\n",
    "classes=modified_bank_data.y.value_counts()/len(modified_bank_data)\n",
    "classes"
   ]
  },
  {
   "cell_type": "markdown",
   "metadata": {},
   "source": [
    "This is a heavily imbalanced data so we would have to work on making the classes balanced so that the model does not bias towards only predicting 0's/no's."
   ]
  },
  {
   "cell_type": "code",
   "execution_count": 11,
   "metadata": {},
   "outputs": [
    {
     "data": {
      "text/html": [
       "<div>\n",
       "<style scoped>\n",
       "    .dataframe tbody tr th:only-of-type {\n",
       "        vertical-align: middle;\n",
       "    }\n",
       "\n",
       "    .dataframe tbody tr th {\n",
       "        vertical-align: top;\n",
       "    }\n",
       "\n",
       "    .dataframe thead th {\n",
       "        text-align: right;\n",
       "    }\n",
       "</style>\n",
       "<table border=\"1\" class=\"dataframe\">\n",
       "  <thead>\n",
       "    <tr style=\"text-align: right;\">\n",
       "      <th></th>\n",
       "      <th>age</th>\n",
       "      <th>duration</th>\n",
       "      <th>campaign</th>\n",
       "      <th>pdays</th>\n",
       "      <th>previous</th>\n",
       "      <th>emp.var.rate</th>\n",
       "      <th>cons.price.idx</th>\n",
       "      <th>cons.conf.idx</th>\n",
       "      <th>euribor3m</th>\n",
       "      <th>nr.employed</th>\n",
       "    </tr>\n",
       "    <tr>\n",
       "      <th>y</th>\n",
       "      <th></th>\n",
       "      <th></th>\n",
       "      <th></th>\n",
       "      <th></th>\n",
       "      <th></th>\n",
       "      <th></th>\n",
       "      <th></th>\n",
       "      <th></th>\n",
       "      <th></th>\n",
       "      <th></th>\n",
       "    </tr>\n",
       "  </thead>\n",
       "  <tbody>\n",
       "    <tr>\n",
       "      <th>no</th>\n",
       "      <td>39.911185</td>\n",
       "      <td>220.844807</td>\n",
       "      <td>2.633085</td>\n",
       "      <td>984.113878</td>\n",
       "      <td>0.132374</td>\n",
       "      <td>0.248875</td>\n",
       "      <td>93.603757</td>\n",
       "      <td>-40.593097</td>\n",
       "      <td>3.811491</td>\n",
       "      <td>5176.166600</td>\n",
       "    </tr>\n",
       "    <tr>\n",
       "      <th>yes</th>\n",
       "      <td>40.913147</td>\n",
       "      <td>553.191164</td>\n",
       "      <td>2.051724</td>\n",
       "      <td>792.035560</td>\n",
       "      <td>0.492672</td>\n",
       "      <td>-1.233448</td>\n",
       "      <td>93.354386</td>\n",
       "      <td>-39.789784</td>\n",
       "      <td>2.123135</td>\n",
       "      <td>5095.115991</td>\n",
       "    </tr>\n",
       "  </tbody>\n",
       "</table>\n",
       "</div>"
      ],
      "text/plain": [
       "           age    duration  campaign       pdays  previous  emp.var.rate  \\\n",
       "y                                                                          \n",
       "no   39.911185  220.844807  2.633085  984.113878  0.132374      0.248875   \n",
       "yes  40.913147  553.191164  2.051724  792.035560  0.492672     -1.233448   \n",
       "\n",
       "     cons.price.idx  cons.conf.idx  euribor3m  nr.employed  \n",
       "y                                                           \n",
       "no        93.603757     -40.593097   3.811491  5176.166600  \n",
       "yes       93.354386     -39.789784   2.123135  5095.115991  "
      ]
     },
     "execution_count": 11,
     "metadata": {},
     "output_type": "execute_result"
    }
   ],
   "source": [
    "#Checking the characteristics of the two classes 0 and 1.\n",
    "modified_bank_data.groupby('y').mean()"
   ]
  },
  {
   "cell_type": "markdown",
   "metadata": {},
   "source": [
    "1. We can observe that the customers who purchased the term deposit at the Portugese bank were higher in age than those who did not purchase the term deposit.\n",
    "\n",
    "2. Also we can observe that pdays(days since the last contact of previous campaign) and campaign(calls for this campaign) was lower for the clients who purchased the term deposit which makes sense."
   ]
  },
  {
   "cell_type": "code",
   "execution_count": 12,
   "metadata": {},
   "outputs": [
    {
     "data": {
      "text/html": [
       "<div>\n",
       "<style scoped>\n",
       "    .dataframe tbody tr th:only-of-type {\n",
       "        vertical-align: middle;\n",
       "    }\n",
       "\n",
       "    .dataframe tbody tr th {\n",
       "        vertical-align: top;\n",
       "    }\n",
       "\n",
       "    .dataframe thead th {\n",
       "        text-align: right;\n",
       "    }\n",
       "</style>\n",
       "<table border=\"1\" class=\"dataframe\">\n",
       "  <thead>\n",
       "    <tr style=\"text-align: right;\">\n",
       "      <th></th>\n",
       "      <th>job</th>\n",
       "      <th>marital</th>\n",
       "      <th>education</th>\n",
       "      <th>default</th>\n",
       "      <th>housing</th>\n",
       "      <th>loan</th>\n",
       "      <th>contact</th>\n",
       "      <th>month</th>\n",
       "      <th>day_of_week</th>\n",
       "      <th>poutcome</th>\n",
       "      <th>y</th>\n",
       "    </tr>\n",
       "  </thead>\n",
       "  <tbody>\n",
       "    <tr>\n",
       "      <th>count</th>\n",
       "      <td>41188</td>\n",
       "      <td>41188</td>\n",
       "      <td>41188</td>\n",
       "      <td>41188</td>\n",
       "      <td>41188</td>\n",
       "      <td>41188</td>\n",
       "      <td>41188</td>\n",
       "      <td>41188</td>\n",
       "      <td>41188</td>\n",
       "      <td>41188</td>\n",
       "      <td>41188</td>\n",
       "    </tr>\n",
       "    <tr>\n",
       "      <th>unique</th>\n",
       "      <td>12</td>\n",
       "      <td>4</td>\n",
       "      <td>8</td>\n",
       "      <td>3</td>\n",
       "      <td>3</td>\n",
       "      <td>3</td>\n",
       "      <td>2</td>\n",
       "      <td>10</td>\n",
       "      <td>5</td>\n",
       "      <td>3</td>\n",
       "      <td>2</td>\n",
       "    </tr>\n",
       "    <tr>\n",
       "      <th>top</th>\n",
       "      <td>admin.</td>\n",
       "      <td>married</td>\n",
       "      <td>university.degree</td>\n",
       "      <td>no</td>\n",
       "      <td>yes</td>\n",
       "      <td>no</td>\n",
       "      <td>cellular</td>\n",
       "      <td>may</td>\n",
       "      <td>thu</td>\n",
       "      <td>nonexistent</td>\n",
       "      <td>no</td>\n",
       "    </tr>\n",
       "    <tr>\n",
       "      <th>freq</th>\n",
       "      <td>10422</td>\n",
       "      <td>24928</td>\n",
       "      <td>12168</td>\n",
       "      <td>32588</td>\n",
       "      <td>21576</td>\n",
       "      <td>33950</td>\n",
       "      <td>26144</td>\n",
       "      <td>13769</td>\n",
       "      <td>8623</td>\n",
       "      <td>35563</td>\n",
       "      <td>36548</td>\n",
       "    </tr>\n",
       "  </tbody>\n",
       "</table>\n",
       "</div>"
      ],
      "text/plain": [
       "           job  marital          education default housing   loan   contact  \\\n",
       "count    41188    41188              41188   41188   41188  41188     41188   \n",
       "unique      12        4                  8       3       3      3         2   \n",
       "top     admin.  married  university.degree      no     yes     no  cellular   \n",
       "freq     10422    24928              12168   32588   21576  33950     26144   \n",
       "\n",
       "        month day_of_week     poutcome      y  \n",
       "count   41188       41188        41188  41188  \n",
       "unique     10           5            3      2  \n",
       "top       may         thu  nonexistent     no  \n",
       "freq    13769        8623        35563  36548  "
      ]
     },
     "execution_count": 12,
     "metadata": {},
     "output_type": "execute_result"
    }
   ],
   "source": [
    "#Observing the stats of the categorical features.\n",
    "modified_bank_data.describe(include=['O'])"
   ]
  },
  {
   "cell_type": "code",
   "execution_count": 13,
   "metadata": {},
   "outputs": [
    {
     "data": {
      "image/png": "[encoded data removed]",
      "text/plain": [
       "<Figure size 720x720 with 12 Axes>"
      ]
     },
     "metadata": {
      "needs_background": "light"
     },
     "output_type": "display_data"
    }
   ],
   "source": [
    "#Observing the distribution\n",
    "modified_bank_data.hist(figsize=(10,10))\n",
    "plt.show()"
   ]
  },
  {
   "cell_type": "code",
   "execution_count": 14,
   "metadata": {},
   "outputs": [
    {
     "data": {
      "text/html": [
       "<div>\n",
       "<style scoped>\n",
       "    .dataframe tbody tr th:only-of-type {\n",
       "        vertical-align: middle;\n",
       "    }\n",
       "\n",
       "    .dataframe tbody tr th {\n",
       "        vertical-align: top;\n",
       "    }\n",
       "\n",
       "    .dataframe thead th {\n",
       "        text-align: right;\n",
       "    }\n",
       "</style>\n",
       "<table border=\"1\" class=\"dataframe\">\n",
       "  <thead>\n",
       "    <tr style=\"text-align: right;\">\n",
       "      <th></th>\n",
       "      <th>age</th>\n",
       "      <th>job</th>\n",
       "      <th>marital</th>\n",
       "      <th>education</th>\n",
       "      <th>default</th>\n",
       "      <th>housing</th>\n",
       "      <th>loan</th>\n",
       "      <th>contact</th>\n",
       "      <th>month</th>\n",
       "      <th>day_of_week</th>\n",
       "      <th>...</th>\n",
       "      <th>campaign</th>\n",
       "      <th>pdays</th>\n",
       "      <th>previous</th>\n",
       "      <th>poutcome</th>\n",
       "      <th>emp.var.rate</th>\n",
       "      <th>cons.price.idx</th>\n",
       "      <th>cons.conf.idx</th>\n",
       "      <th>euribor3m</th>\n",
       "      <th>nr.employed</th>\n",
       "      <th>y</th>\n",
       "    </tr>\n",
       "  </thead>\n",
       "  <tbody>\n",
       "    <tr>\n",
       "      <th>37140</th>\n",
       "      <td>17</td>\n",
       "      <td>student</td>\n",
       "      <td>single</td>\n",
       "      <td>unknown</td>\n",
       "      <td>no</td>\n",
       "      <td>yes</td>\n",
       "      <td>no</td>\n",
       "      <td>cellular</td>\n",
       "      <td>aug</td>\n",
       "      <td>wed</td>\n",
       "      <td>...</td>\n",
       "      <td>3</td>\n",
       "      <td>4</td>\n",
       "      <td>2</td>\n",
       "      <td>success</td>\n",
       "      <td>-2.9</td>\n",
       "      <td>92.201</td>\n",
       "      <td>-31.4</td>\n",
       "      <td>0.884</td>\n",
       "      <td>5076.2</td>\n",
       "      <td>no</td>\n",
       "    </tr>\n",
       "    <tr>\n",
       "      <th>37539</th>\n",
       "      <td>17</td>\n",
       "      <td>student</td>\n",
       "      <td>single</td>\n",
       "      <td>basic.9y</td>\n",
       "      <td>no</td>\n",
       "      <td>yes</td>\n",
       "      <td>no</td>\n",
       "      <td>cellular</td>\n",
       "      <td>aug</td>\n",
       "      <td>fri</td>\n",
       "      <td>...</td>\n",
       "      <td>2</td>\n",
       "      <td>999</td>\n",
       "      <td>2</td>\n",
       "      <td>failure</td>\n",
       "      <td>-2.9</td>\n",
       "      <td>92.201</td>\n",
       "      <td>-31.4</td>\n",
       "      <td>0.869</td>\n",
       "      <td>5076.2</td>\n",
       "      <td>no</td>\n",
       "    </tr>\n",
       "    <tr>\n",
       "      <th>37558</th>\n",
       "      <td>17</td>\n",
       "      <td>student</td>\n",
       "      <td>single</td>\n",
       "      <td>basic.9y</td>\n",
       "      <td>no</td>\n",
       "      <td>yes</td>\n",
       "      <td>no</td>\n",
       "      <td>cellular</td>\n",
       "      <td>aug</td>\n",
       "      <td>fri</td>\n",
       "      <td>...</td>\n",
       "      <td>3</td>\n",
       "      <td>4</td>\n",
       "      <td>2</td>\n",
       "      <td>success</td>\n",
       "      <td>-2.9</td>\n",
       "      <td>92.201</td>\n",
       "      <td>-31.4</td>\n",
       "      <td>0.869</td>\n",
       "      <td>5076.2</td>\n",
       "      <td>no</td>\n",
       "    </tr>\n",
       "    <tr>\n",
       "      <th>37579</th>\n",
       "      <td>17</td>\n",
       "      <td>student</td>\n",
       "      <td>single</td>\n",
       "      <td>basic.9y</td>\n",
       "      <td>no</td>\n",
       "      <td>unknown</td>\n",
       "      <td>unknown</td>\n",
       "      <td>cellular</td>\n",
       "      <td>aug</td>\n",
       "      <td>fri</td>\n",
       "      <td>...</td>\n",
       "      <td>2</td>\n",
       "      <td>999</td>\n",
       "      <td>1</td>\n",
       "      <td>failure</td>\n",
       "      <td>-2.9</td>\n",
       "      <td>92.201</td>\n",
       "      <td>-31.4</td>\n",
       "      <td>0.869</td>\n",
       "      <td>5076.2</td>\n",
       "      <td>yes</td>\n",
       "    </tr>\n",
       "    <tr>\n",
       "      <th>38274</th>\n",
       "      <td>17</td>\n",
       "      <td>student</td>\n",
       "      <td>single</td>\n",
       "      <td>unknown</td>\n",
       "      <td>no</td>\n",
       "      <td>no</td>\n",
       "      <td>yes</td>\n",
       "      <td>cellular</td>\n",
       "      <td>oct</td>\n",
       "      <td>tue</td>\n",
       "      <td>...</td>\n",
       "      <td>1</td>\n",
       "      <td>2</td>\n",
       "      <td>2</td>\n",
       "      <td>success</td>\n",
       "      <td>-3.4</td>\n",
       "      <td>92.431</td>\n",
       "      <td>-26.9</td>\n",
       "      <td>0.742</td>\n",
       "      <td>5017.5</td>\n",
       "      <td>yes</td>\n",
       "    </tr>\n",
       "  </tbody>\n",
       "</table>\n",
       "<p>5 rows × 21 columns</p>\n",
       "</div>"
      ],
      "text/plain": [
       "       age      job marital education default  housing     loan   contact  \\\n",
       "37140   17  student  single   unknown      no      yes       no  cellular   \n",
       "37539   17  student  single  basic.9y      no      yes       no  cellular   \n",
       "37558   17  student  single  basic.9y      no      yes       no  cellular   \n",
       "37579   17  student  single  basic.9y      no  unknown  unknown  cellular   \n",
       "38274   17  student  single   unknown      no       no      yes  cellular   \n",
       "\n",
       "      month day_of_week  ...  campaign  pdays  previous  poutcome  \\\n",
       "37140   aug         wed  ...         3      4         2   success   \n",
       "37539   aug         fri  ...         2    999         2   failure   \n",
       "37558   aug         fri  ...         3      4         2   success   \n",
       "37579   aug         fri  ...         2    999         1   failure   \n",
       "38274   oct         tue  ...         1      2         2   success   \n",
       "\n",
       "      emp.var.rate  cons.price.idx  cons.conf.idx  euribor3m  nr.employed    y  \n",
       "37140         -2.9          92.201          -31.4      0.884       5076.2   no  \n",
       "37539         -2.9          92.201          -31.4      0.869       5076.2   no  \n",
       "37558         -2.9          92.201          -31.4      0.869       5076.2   no  \n",
       "37579         -2.9          92.201          -31.4      0.869       5076.2  yes  \n",
       "38274         -3.4          92.431          -26.9      0.742       5017.5  yes  \n",
       "\n",
       "[5 rows x 21 columns]"
      ]
     },
     "execution_count": 14,
     "metadata": {},
     "output_type": "execute_result"
    }
   ],
   "source": [
    "#Checking the extreme values of age feature\n",
    "modified_bank_data[modified_bank_data['age']<18].sort_values(by=['age'])"
   ]
  },
  {
   "cell_type": "markdown",
   "metadata": {},
   "source": [
    "It doesn't make any sense for students under 18 years to open a bank term deposit or even get a housing or a personal loan. So removing these values."
   ]
  },
  {
   "cell_type": "code",
   "execution_count": 15,
   "metadata": {},
   "outputs": [],
   "source": [
    "modified_bank_data=modified_bank_data[modified_bank_data['age']>18]"
   ]
  },
  {
   "cell_type": "code",
   "execution_count": 16,
   "metadata": {},
   "outputs": [
    {
     "data": {
      "text/plain": [
       "<matplotlib.lines.Line2D at 0x1a20a811d0>"
      ]
     },
     "execution_count": 16,
     "metadata": {},
     "output_type": "execute_result"
    },
    {
     "data": {
      "image/png": "[encoded data removed]",
      "text/plain": [
       "<Figure size 720x720 with 1 Axes>"
      ]
     },
     "metadata": {
      "needs_background": "light"
     },
     "output_type": "display_data"
    }
   ],
   "source": [
    "# Plotting sorted age against their index\n",
    "sorted_age = sorted(modified_bank_data['age'])\n",
    "idx = []\n",
    "for i in range(len(sorted_age)):\n",
    "    idx.append(i)\n",
    "x = idx\n",
    "y = sorted_age\n",
    "\n",
    "\n",
    "plt.figure(figsize=(10,10))\n",
    "plt.scatter(x, y, s=10)\n",
    "plt.axhline(y=0, linestyle='--', color='r')\n",
    "plt.axhline(y=100, linestyle='--', color='r')"
   ]
  },
  {
   "cell_type": "markdown",
   "metadata": {},
   "source": [
    "## 3.2 Descriptive Figures"
   ]
  },
  {
   "cell_type": "code",
   "execution_count": 17,
   "metadata": {},
   "outputs": [
    {
     "data": {
      "image/png": "[encoded data removed]",
      "text/plain": [
       "<Figure size 2160x1080 with 11 Axes>"
      ]
     },
     "metadata": {
      "needs_background": "light"
     },
     "output_type": "display_data"
    }
   ],
   "source": [
    "#Observing categorical plots.\n",
    "def subplots(size,cols,data):\n",
    "    plt.figure(figsize=size)\n",
    "    for i in range(len(features)):\n",
    "        plt.subplot(4,3,i+1)\n",
    "        sns.countplot(x=data[features[i]])\n",
    "        \n",
    "\n",
    "features= modified_bank_data.select_dtypes(exclude=['int64','float64']).columns\n",
    "    \n",
    "subplots((30,15),features,modified_bank_data)"
   ]
  },
  {
   "cell_type": "markdown",
   "metadata": {},
   "source": [
    "From the above figures it is observed that, there are higher instances of the following features:\n",
    "- admin job-type,\n",
    "- Married marital status\n",
    "- People having university degree\n",
    "- People with no default\n",
    "- People who have been contacted via cellular network\n",
    "- And, the classes no and yes are highly imbalanced with majority no values and very few positive cases."
   ]
  },
  {
   "cell_type": "markdown",
   "metadata": {},
   "source": [
    "## 3.2.1. Box Plots"
   ]
  },
  {
   "cell_type": "code",
   "execution_count": 18,
   "metadata": {},
   "outputs": [
    {
     "data": {
      "image/png": "[encoded data removed]",
      "text/plain": [
       "<Figure size 1080x1080 with 10 Axes>"
      ]
     },
     "metadata": {
      "needs_background": "light"
     },
     "output_type": "display_data"
    }
   ],
   "source": [
    "#Observing the distribution and extreme values in numerical features\n",
    "def box_plots(size,cols,data):\n",
    "    plt.figure(figsize=size)\n",
    "    for i in range(len(features)):\n",
    "        plt.subplot(4,3,i+1)\n",
    "        sns.boxplot(x=data[features[i]])\n",
    "        \n",
    "features=modified_bank_data.select_dtypes(exclude=['object']).columns\n",
    "\n",
    "box_plots((15,15),features,modified_bank_data)\n",
    "    "
   ]
  },
  {
   "cell_type": "markdown",
   "metadata": {},
   "source": [
    "From the above we can see that campaign has an extreme value which can bias our model, same goes for pdays and cons.conf.idx"
   ]
  },
  {
   "cell_type": "markdown",
   "metadata": {},
   "source": [
    "## 3.2.2. Distribution plots"
   ]
  },
  {
   "cell_type": "code",
   "execution_count": 19,
   "metadata": {},
   "outputs": [
    {
     "data": {
      "image/png": "[encoded data removed]",
      "text/plain": [
       "<Figure size 1440x1440 with 10 Axes>"
      ]
     },
     "metadata": {
      "needs_background": "light"
     },
     "output_type": "display_data"
    }
   ],
   "source": [
    "#Observing the distribution and extreme values in numerical features\n",
    "def dist_plots(size,cols,data):\n",
    "    plt.figure(figsize=size)\n",
    "    for i in range(len(features)):\n",
    "        plt.subplot(4,3,i+1)\n",
    "        sns.distplot(data[features[i]],fit=norm,kde=False,color='y')\n",
    "        \n",
    "features=modified_bank_data.select_dtypes(exclude=['object']).columns\n",
    "\n",
    "dist_plots((20,20),features,modified_bank_data)"
   ]
  },
  {
   "cell_type": "markdown",
   "metadata": {},
   "source": [
    "From the above we can see that age,campaign,previous are left skewed which might bias our model so we will apply log transformation to these features. And duration is said to have direct influence with the y variable so we will drop it in later stage."
   ]
  },
  {
   "cell_type": "markdown",
   "metadata": {},
   "source": [
    "## 3.2.3. Correlation matrix"
   ]
  },
  {
   "cell_type": "code",
   "execution_count": 20,
   "metadata": {},
   "outputs": [
    {
     "data": {
      "image/png": "[encoded data removed]",
      "text/plain": [
       "<Figure size 1440x720 with 1 Axes>"
      ]
     },
     "metadata": {
      "needs_background": "light"
     },
     "output_type": "display_data"
    }
   ],
   "source": [
    "#Correlation matrix\n",
    "\n",
    "def correlation_matrix(data):\n",
    "    corr=data.corr()\n",
    "    plt.figure(figsize=(20,10))\n",
    "    sns.heatmap(corr,annot=True,fmt='.1g',xticklabels=corr.columns.values,yticklabels=corr.columns.values,cmap=\"YlGnBu\",cbar=False)\n",
    "    \n",
    "correlation_matrix(modified_bank_data)\n",
    "    "
   ]
  },
  {
   "cell_type": "markdown",
   "metadata": {},
   "source": [
    "## 3.2.4. Outlier Detection"
   ]
  },
  {
   "cell_type": "code",
   "execution_count": 21,
   "metadata": {},
   "outputs": [],
   "source": [
    "#As the data is skewed so we will use IQR to identify outliers\n",
    "cols=modified_bank_data.select_dtypes(exclude=['object']).columns\n",
    "\n",
    "def outlier_IQR(df,column):\n",
    "\n",
    "    stat = df[column].describe()\n",
    "    print(stat)\n",
    "    IQR = stat['75%'] - stat['25%']\n",
    "    upper = stat['75%'] + 1.5 * IQR\n",
    "    lower = stat['25%'] - 1.5 * IQR\n",
    "    print('The upper and lower bounds for suspected outliers of',each, 'are {} and {}.'.format(upper, lower))"
   ]
  },
  {
   "cell_type": "code",
   "execution_count": 22,
   "metadata": {},
   "outputs": [
    {
     "data": {
      "text/plain": [
       "40    2\n",
       "42    2\n",
       "37    1\n",
       "39    1\n",
       "41    1\n",
       "56    1\n",
       "Name: campaign, dtype: int64"
      ]
     },
     "execution_count": 22,
     "metadata": {},
     "output_type": "execute_result"
    }
   ],
   "source": [
    "modified_bank_data.loc[modified_bank_data['campaign']>10,'campaign'].value_counts()[-6:]"
   ]
  },
  {
   "cell_type": "markdown",
   "metadata": {},
   "source": [
    "Observing the above data, lot of data lies after 75th percentile so it would make no sense to those values, it is significant from the box plot above as well.So we will just remove the extreme value 56."
   ]
  },
  {
   "cell_type": "code",
   "execution_count": 23,
   "metadata": {},
   "outputs": [],
   "source": [
    "#Dropping the extreme value row.\n",
    "modified_bank_data=modified_bank_data[modified_bank_data['campaign']<56]"
   ]
  },
  {
   "cell_type": "markdown",
   "metadata": {},
   "source": [
    "## 3.3.Feature Engineering"
   ]
  },
  {
   "cell_type": "markdown",
   "metadata": {},
   "source": [
    "Before fitting our model it is important to give correct shape to our features prior to splitting the dataset."
   ]
  },
  {
   "cell_type": "markdown",
   "metadata": {},
   "source": [
    "## 3.3.1 Feature transformation"
   ]
  },
  {
   "cell_type": "code",
   "execution_count": 24,
   "metadata": {},
   "outputs": [
    {
     "data": {
      "text/plain": [
       "<matplotlib.axes._subplots.AxesSubplot at 0x1a210db950>"
      ]
     },
     "execution_count": 24,
     "metadata": {},
     "output_type": "execute_result"
    },
    {
     "data": {
      "image/png": "[encoded data removed]",
      "text/plain": [
       "<Figure size 432x288 with 1 Axes>"
      ]
     },
     "metadata": {
      "needs_background": "light"
     },
     "output_type": "display_data"
    }
   ],
   "source": [
    "#Firstly, we log transform the skewed feature age\n",
    "\n",
    "modified_bank_data['age']=np.log(modified_bank_data['age'])\n",
    "sns.distplot(modified_bank_data['age'],fit=norm,kde=False)\n"
   ]
  },
  {
   "cell_type": "markdown",
   "metadata": {},
   "source": [
    "**The boxcox() SciPy function implements the Box-Cox method. It takes an argument, called lambda, that controls the type of transform to perform.**\n",
    "\n",
    "Below are some common values for lambda:\n",
    "\n",
    "1.lambda = -1. is a reciprocal transform.\n",
    "\n",
    "2.lambda = -0.5 is a reciprocal square root transform.\n",
    "\n",
    "\n",
    "3.lambda = 0.0 is a log transform.\n",
    "\n",
    "\n",
    "4.lambda = 0.5 is a square root transform.\n",
    "\n",
    "\n",
    "5.lambda = 1.0 is no transform.\n",
    "\n"
   ]
  },
  {
   "cell_type": "code",
   "execution_count": 25,
   "metadata": {},
   "outputs": [
    {
     "data": {
      "text/plain": [
       "<matplotlib.axes._subplots.AxesSubplot at 0x1a2099db90>"
      ]
     },
     "execution_count": 25,
     "metadata": {},
     "output_type": "execute_result"
    },
    {
     "data": {
      "image/png": "[encoded data removed]",
      "text/plain": [
       "<Figure size 432x288 with 1 Axes>"
      ]
     },
     "metadata": {
      "needs_background": "light"
     },
     "output_type": "display_data"
    }
   ],
   "source": [
    "#Reciprocal transform campaign\n",
    "modified_bank_data['campaign']=boxcox(modified_bank_data['campaign'],-1)\n",
    "sns.distplot(modified_bank_data['campaign'],fit=norm,kde=False)"
   ]
  },
  {
   "cell_type": "markdown",
   "metadata": {},
   "source": [
    "## 3.3.2. Dropping highly correlated feature"
   ]
  },
  {
   "cell_type": "code",
   "execution_count": 26,
   "metadata": {},
   "outputs": [],
   "source": [
    "#Dropping the original duration  feature, duration because it is said to influence our model.\n",
    "modified_bank_data.drop(['duration'],inplace=True,axis=1)"
   ]
  },
  {
   "cell_type": "markdown",
   "metadata": {},
   "source": [
    "## 3.3.3. Creating a new feature"
   ]
  },
  {
   "cell_type": "code",
   "execution_count": 27,
   "metadata": {},
   "outputs": [
    {
     "data": {
      "text/html": [
       "<div>\n",
       "<style scoped>\n",
       "    .dataframe tbody tr th:only-of-type {\n",
       "        vertical-align: middle;\n",
       "    }\n",
       "\n",
       "    .dataframe tbody tr th {\n",
       "        vertical-align: top;\n",
       "    }\n",
       "\n",
       "    .dataframe thead th {\n",
       "        text-align: right;\n",
       "    }\n",
       "</style>\n",
       "<table border=\"1\" class=\"dataframe\">\n",
       "  <thead>\n",
       "    <tr style=\"text-align: right;\">\n",
       "      <th></th>\n",
       "      <th>age</th>\n",
       "      <th>job</th>\n",
       "      <th>marital</th>\n",
       "      <th>education</th>\n",
       "      <th>default</th>\n",
       "      <th>housing</th>\n",
       "      <th>loan</th>\n",
       "      <th>contact</th>\n",
       "      <th>month</th>\n",
       "      <th>day_of_week</th>\n",
       "      <th>campaign</th>\n",
       "      <th>pdays</th>\n",
       "      <th>previous</th>\n",
       "      <th>poutcome</th>\n",
       "      <th>emp.var.rate</th>\n",
       "      <th>cons.price.idx</th>\n",
       "      <th>cons.conf.idx</th>\n",
       "      <th>euribor3m</th>\n",
       "      <th>nr.employed</th>\n",
       "      <th>y</th>\n",
       "    </tr>\n",
       "  </thead>\n",
       "  <tbody>\n",
       "    <tr>\n",
       "      <th>0</th>\n",
       "      <td>4.025352</td>\n",
       "      <td>housemaid</td>\n",
       "      <td>married</td>\n",
       "      <td>basic.4y</td>\n",
       "      <td>no</td>\n",
       "      <td>no</td>\n",
       "      <td>no</td>\n",
       "      <td>telephone</td>\n",
       "      <td>may</td>\n",
       "      <td>mon</td>\n",
       "      <td>0.0</td>\n",
       "      <td>999</td>\n",
       "      <td>0</td>\n",
       "      <td>nonexistent</td>\n",
       "      <td>1.1</td>\n",
       "      <td>93.994</td>\n",
       "      <td>-36.4</td>\n",
       "      <td>4.857</td>\n",
       "      <td>5191.0</td>\n",
       "      <td>no</td>\n",
       "    </tr>\n",
       "    <tr>\n",
       "      <th>1</th>\n",
       "      <td>4.043051</td>\n",
       "      <td>services</td>\n",
       "      <td>married</td>\n",
       "      <td>high.school</td>\n",
       "      <td>unknown</td>\n",
       "      <td>no</td>\n",
       "      <td>no</td>\n",
       "      <td>telephone</td>\n",
       "      <td>may</td>\n",
       "      <td>mon</td>\n",
       "      <td>0.0</td>\n",
       "      <td>999</td>\n",
       "      <td>0</td>\n",
       "      <td>nonexistent</td>\n",
       "      <td>1.1</td>\n",
       "      <td>93.994</td>\n",
       "      <td>-36.4</td>\n",
       "      <td>4.857</td>\n",
       "      <td>5191.0</td>\n",
       "      <td>no</td>\n",
       "    </tr>\n",
       "    <tr>\n",
       "      <th>2</th>\n",
       "      <td>3.610918</td>\n",
       "      <td>services</td>\n",
       "      <td>married</td>\n",
       "      <td>high.school</td>\n",
       "      <td>no</td>\n",
       "      <td>yes</td>\n",
       "      <td>no</td>\n",
       "      <td>telephone</td>\n",
       "      <td>may</td>\n",
       "      <td>mon</td>\n",
       "      <td>0.0</td>\n",
       "      <td>999</td>\n",
       "      <td>0</td>\n",
       "      <td>nonexistent</td>\n",
       "      <td>1.1</td>\n",
       "      <td>93.994</td>\n",
       "      <td>-36.4</td>\n",
       "      <td>4.857</td>\n",
       "      <td>5191.0</td>\n",
       "      <td>no</td>\n",
       "    </tr>\n",
       "    <tr>\n",
       "      <th>3</th>\n",
       "      <td>3.688879</td>\n",
       "      <td>admin.</td>\n",
       "      <td>married</td>\n",
       "      <td>basic.6y</td>\n",
       "      <td>no</td>\n",
       "      <td>no</td>\n",
       "      <td>no</td>\n",
       "      <td>telephone</td>\n",
       "      <td>may</td>\n",
       "      <td>mon</td>\n",
       "      <td>0.0</td>\n",
       "      <td>999</td>\n",
       "      <td>0</td>\n",
       "      <td>nonexistent</td>\n",
       "      <td>1.1</td>\n",
       "      <td>93.994</td>\n",
       "      <td>-36.4</td>\n",
       "      <td>4.857</td>\n",
       "      <td>5191.0</td>\n",
       "      <td>no</td>\n",
       "    </tr>\n",
       "    <tr>\n",
       "      <th>4</th>\n",
       "      <td>4.025352</td>\n",
       "      <td>services</td>\n",
       "      <td>married</td>\n",
       "      <td>high.school</td>\n",
       "      <td>no</td>\n",
       "      <td>no</td>\n",
       "      <td>yes</td>\n",
       "      <td>telephone</td>\n",
       "      <td>may</td>\n",
       "      <td>mon</td>\n",
       "      <td>0.0</td>\n",
       "      <td>999</td>\n",
       "      <td>0</td>\n",
       "      <td>nonexistent</td>\n",
       "      <td>1.1</td>\n",
       "      <td>93.994</td>\n",
       "      <td>-36.4</td>\n",
       "      <td>4.857</td>\n",
       "      <td>5191.0</td>\n",
       "      <td>no</td>\n",
       "    </tr>\n",
       "    <tr>\n",
       "      <th>...</th>\n",
       "      <td>...</td>\n",
       "      <td>...</td>\n",
       "      <td>...</td>\n",
       "      <td>...</td>\n",
       "      <td>...</td>\n",
       "      <td>...</td>\n",
       "      <td>...</td>\n",
       "      <td>...</td>\n",
       "      <td>...</td>\n",
       "      <td>...</td>\n",
       "      <td>...</td>\n",
       "      <td>...</td>\n",
       "      <td>...</td>\n",
       "      <td>...</td>\n",
       "      <td>...</td>\n",
       "      <td>...</td>\n",
       "      <td>...</td>\n",
       "      <td>...</td>\n",
       "      <td>...</td>\n",
       "      <td>...</td>\n",
       "    </tr>\n",
       "    <tr>\n",
       "      <th>41181</th>\n",
       "      <td>3.610918</td>\n",
       "      <td>admin.</td>\n",
       "      <td>married</td>\n",
       "      <td>university.degree</td>\n",
       "      <td>no</td>\n",
       "      <td>yes</td>\n",
       "      <td>no</td>\n",
       "      <td>cellular</td>\n",
       "      <td>nov</td>\n",
       "      <td>fri</td>\n",
       "      <td>0.0</td>\n",
       "      <td>999</td>\n",
       "      <td>0</td>\n",
       "      <td>nonexistent</td>\n",
       "      <td>-1.1</td>\n",
       "      <td>94.767</td>\n",
       "      <td>-50.8</td>\n",
       "      <td>1.028</td>\n",
       "      <td>4963.6</td>\n",
       "      <td>yes</td>\n",
       "    </tr>\n",
       "    <tr>\n",
       "      <th>41183</th>\n",
       "      <td>4.290459</td>\n",
       "      <td>retired</td>\n",
       "      <td>married</td>\n",
       "      <td>professional.course</td>\n",
       "      <td>no</td>\n",
       "      <td>yes</td>\n",
       "      <td>no</td>\n",
       "      <td>cellular</td>\n",
       "      <td>nov</td>\n",
       "      <td>fri</td>\n",
       "      <td>0.0</td>\n",
       "      <td>999</td>\n",
       "      <td>0</td>\n",
       "      <td>nonexistent</td>\n",
       "      <td>-1.1</td>\n",
       "      <td>94.767</td>\n",
       "      <td>-50.8</td>\n",
       "      <td>1.028</td>\n",
       "      <td>4963.6</td>\n",
       "      <td>yes</td>\n",
       "    </tr>\n",
       "    <tr>\n",
       "      <th>41184</th>\n",
       "      <td>3.828641</td>\n",
       "      <td>blue-collar</td>\n",
       "      <td>married</td>\n",
       "      <td>professional.course</td>\n",
       "      <td>no</td>\n",
       "      <td>no</td>\n",
       "      <td>no</td>\n",
       "      <td>cellular</td>\n",
       "      <td>nov</td>\n",
       "      <td>fri</td>\n",
       "      <td>0.0</td>\n",
       "      <td>999</td>\n",
       "      <td>0</td>\n",
       "      <td>nonexistent</td>\n",
       "      <td>-1.1</td>\n",
       "      <td>94.767</td>\n",
       "      <td>-50.8</td>\n",
       "      <td>1.028</td>\n",
       "      <td>4963.6</td>\n",
       "      <td>no</td>\n",
       "    </tr>\n",
       "    <tr>\n",
       "      <th>41185</th>\n",
       "      <td>4.025352</td>\n",
       "      <td>retired</td>\n",
       "      <td>married</td>\n",
       "      <td>university.degree</td>\n",
       "      <td>no</td>\n",
       "      <td>yes</td>\n",
       "      <td>no</td>\n",
       "      <td>cellular</td>\n",
       "      <td>nov</td>\n",
       "      <td>fri</td>\n",
       "      <td>0.5</td>\n",
       "      <td>999</td>\n",
       "      <td>0</td>\n",
       "      <td>nonexistent</td>\n",
       "      <td>-1.1</td>\n",
       "      <td>94.767</td>\n",
       "      <td>-50.8</td>\n",
       "      <td>1.028</td>\n",
       "      <td>4963.6</td>\n",
       "      <td>no</td>\n",
       "    </tr>\n",
       "    <tr>\n",
       "      <th>41186</th>\n",
       "      <td>3.784190</td>\n",
       "      <td>technician</td>\n",
       "      <td>married</td>\n",
       "      <td>professional.course</td>\n",
       "      <td>no</td>\n",
       "      <td>no</td>\n",
       "      <td>no</td>\n",
       "      <td>cellular</td>\n",
       "      <td>nov</td>\n",
       "      <td>fri</td>\n",
       "      <td>0.0</td>\n",
       "      <td>999</td>\n",
       "      <td>0</td>\n",
       "      <td>nonexistent</td>\n",
       "      <td>-1.1</td>\n",
       "      <td>94.767</td>\n",
       "      <td>-50.8</td>\n",
       "      <td>1.028</td>\n",
       "      <td>4963.6</td>\n",
       "      <td>yes</td>\n",
       "    </tr>\n",
       "  </tbody>\n",
       "</table>\n",
       "<p>35547 rows × 20 columns</p>\n",
       "</div>"
      ],
      "text/plain": [
       "            age          job  marital            education  default housing  \\\n",
       "0      4.025352    housemaid  married             basic.4y       no      no   \n",
       "1      4.043051     services  married          high.school  unknown      no   \n",
       "2      3.610918     services  married          high.school       no     yes   \n",
       "3      3.688879       admin.  married             basic.6y       no      no   \n",
       "4      4.025352     services  married          high.school       no      no   \n",
       "...         ...          ...      ...                  ...      ...     ...   \n",
       "41181  3.610918       admin.  married    university.degree       no     yes   \n",
       "41183  4.290459      retired  married  professional.course       no     yes   \n",
       "41184  3.828641  blue-collar  married  professional.course       no      no   \n",
       "41185  4.025352      retired  married    university.degree       no     yes   \n",
       "41186  3.784190   technician  married  professional.course       no      no   \n",
       "\n",
       "      loan    contact month day_of_week  campaign  pdays  previous  \\\n",
       "0       no  telephone   may         mon       0.0    999         0   \n",
       "1       no  telephone   may         mon       0.0    999         0   \n",
       "2       no  telephone   may         mon       0.0    999         0   \n",
       "3       no  telephone   may         mon       0.0    999         0   \n",
       "4      yes  telephone   may         mon       0.0    999         0   \n",
       "...    ...        ...   ...         ...       ...    ...       ...   \n",
       "41181   no   cellular   nov         fri       0.0    999         0   \n",
       "41183   no   cellular   nov         fri       0.0    999         0   \n",
       "41184   no   cellular   nov         fri       0.0    999         0   \n",
       "41185   no   cellular   nov         fri       0.5    999         0   \n",
       "41186   no   cellular   nov         fri       0.0    999         0   \n",
       "\n",
       "          poutcome  emp.var.rate  cons.price.idx  cons.conf.idx  euribor3m  \\\n",
       "0      nonexistent           1.1          93.994          -36.4      4.857   \n",
       "1      nonexistent           1.1          93.994          -36.4      4.857   \n",
       "2      nonexistent           1.1          93.994          -36.4      4.857   \n",
       "3      nonexistent           1.1          93.994          -36.4      4.857   \n",
       "4      nonexistent           1.1          93.994          -36.4      4.857   \n",
       "...            ...           ...             ...            ...        ...   \n",
       "41181  nonexistent          -1.1          94.767          -50.8      1.028   \n",
       "41183  nonexistent          -1.1          94.767          -50.8      1.028   \n",
       "41184  nonexistent          -1.1          94.767          -50.8      1.028   \n",
       "41185  nonexistent          -1.1          94.767          -50.8      1.028   \n",
       "41186  nonexistent          -1.1          94.767          -50.8      1.028   \n",
       "\n",
       "       nr.employed    y  \n",
       "0           5191.0   no  \n",
       "1           5191.0   no  \n",
       "2           5191.0   no  \n",
       "3           5191.0   no  \n",
       "4           5191.0   no  \n",
       "...            ...  ...  \n",
       "41181       4963.6  yes  \n",
       "41183       4963.6  yes  \n",
       "41184       4963.6   no  \n",
       "41185       4963.6   no  \n",
       "41186       4963.6  yes  \n",
       "\n",
       "[35547 rows x 20 columns]"
      ]
     },
     "execution_count": 27,
     "metadata": {},
     "output_type": "execute_result"
    }
   ],
   "source": [
    "#Checking if there are any instances where the customer was not contacted previously and no calls were made to the\n",
    "#customer before this campaign.\n",
    "\n",
    "modified_bank_data[(modified_bank_data['previous']==0) & (modified_bank_data['pdays']==999)]"
   ]
  },
  {
   "cell_type": "code",
   "execution_count": 28,
   "metadata": {},
   "outputs": [
    {
     "data": {
      "text/plain": [
       "No Contact    35547\n",
       "Contacted      5607\n",
       "Name: Contact_before_this_campaign, dtype: int64"
      ]
     },
     "execution_count": 28,
     "metadata": {},
     "output_type": "execute_result"
    }
   ],
   "source": [
    "#Creating customer contacted or not contacted column\n",
    "def customer_contacted(modified_bank_data):\n",
    "    if modified_bank_data['previous']==0 and modified_bank_data['pdays']==999:\n",
    "        return 'No Contact'\n",
    "    else:\n",
    "        return 'Contacted'\n",
    "    \n",
    "modified_bank_data['Contact_before_this_campaign']= modified_bank_data.apply(customer_contacted, axis=1)\n",
    "\n",
    "modified_bank_data.Contact_before_this_campaign.value_counts()\n",
    "    "
   ]
  },
  {
   "cell_type": "code",
   "execution_count": 29,
   "metadata": {},
   "outputs": [
    {
     "name": "stdout",
     "output_type": "stream",
     "text": [
      "Percentage of contacted people who bought the term dep.= 26.55609060103442\n",
      "Percentage of contacted people who did not purchase the term dep.= 73.44390939896557\n",
      "Percent of not contacted people who bougth the term dep.= 8.824936000225055\n",
      "Percent of not contacted people who bougth the term dep.= 91.17506399977493\n"
     ]
    }
   ],
   "source": [
    "#26.5% of contacted people bought the term deposit\n",
    "\n",
    "print('Percentage of contacted people who bought the term dep.=',len(modified_bank_data[(modified_bank_data['Contact_before_this_campaign']=='Contacted') & (modified_bank_data['y']=='yes')])/len(modified_bank_data[modified_bank_data['Contact_before_this_campaign']=='Contacted'])*100)\n",
    "\n",
    "# 73.4% of the contacted people did not buy the term deposit\n",
    "\n",
    "print('Percentage of contacted people who did not purchase the term dep.=',len(modified_bank_data[(modified_bank_data['Contact_before_this_campaign']=='Contacted') & (modified_bank_data['y']=='no')])/len(modified_bank_data[modified_bank_data['Contact_before_this_campaign']=='Contacted'])*100)\n",
    "\n",
    "#8.83% of the non-contacted people had purchased the term deposit\n",
    "\n",
    "print('Percent of not contacted people who bougth the term dep.=',len(modified_bank_data[(modified_bank_data['Contact_before_this_campaign']=='No Contact') & (modified_bank_data['y']=='yes')])/len(modified_bank_data[modified_bank_data['Contact_before_this_campaign']=='No Contact'])*100)\n",
    "\n",
    "#91.17% of the not contacted people did not buy the term deposit, so the bank may have to increase their contacted calls \n",
    "#Or the bank knew that these category of the people would not buy the term deposit.\n",
    "\n",
    "print('Percent of not contacted people who bougth the term dep.=',len(modified_bank_data[(modified_bank_data['Contact_before_this_campaign']=='No Contact') & (modified_bank_data['y']=='no')])/len(modified_bank_data[modified_bank_data['Contact_before_this_campaign']=='No Contact'])*100)"
   ]
  },
  {
   "cell_type": "code",
   "execution_count": 30,
   "metadata": {},
   "outputs": [
    {
     "name": "stdout",
     "output_type": "stream",
     "text": [
      "Percent of people who have an existing money to pay and have not purchased the term deposit= 51.8540117607037\n"
     ]
    }
   ],
   "source": [
    "#Observing what percentage of people who have an existing loan or default purchased the term deposit.\n",
    "\n",
    "print('Percent of people who have an existing money to pay and have not purchased the term deposit=',len(modified_bank_data[((modified_bank_data['default']=='yes')|(modified_bank_data['housing']=='yes')|(modified_bank_data['loan']=='yes'))&(modified_bank_data['y']=='no')])/(len(modified_bank_data))*100)"
   ]
  },
  {
   "cell_type": "markdown",
   "metadata": {},
   "source": [
    "## 3.3.4. Replacing output variable with numeric data"
   ]
  },
  {
   "cell_type": "code",
   "execution_count": 31,
   "metadata": {},
   "outputs": [],
   "source": [
    "#Replacing the yes and no with 1 and 0\n",
    "modified_bank_data['y'].replace(['yes','no'],[1,0],inplace=True)"
   ]
  },
  {
   "cell_type": "markdown",
   "metadata": {},
   "source": [
    "## 3.3.5. Creating Dummy variables"
   ]
  },
  {
   "cell_type": "code",
   "execution_count": 32,
   "metadata": {},
   "outputs": [],
   "source": [
    "### One hot encoding the features.\n",
    "modified_bank_data=pd.concat([pd.get_dummies(data=modified_bank_data,columns=['job','marital','education','default','housing','loan','contact','month','day_of_week','poutcome','Contact_before_this_campaign'])\n",
    "],axis=1)"
   ]
  },
  {
   "cell_type": "markdown",
   "metadata": {},
   "source": [
    "## 4. Model Selection"
   ]
  },
  {
   "cell_type": "markdown",
   "metadata": {},
   "source": [
    "## 4.1 Data preparation \n",
    "\n",
    "Firstly we will see the accuarcy of the benchmark model i.e using the data which is untouched and includes all the variables."
   ]
  },
  {
   "cell_type": "code",
   "execution_count": 33,
   "metadata": {},
   "outputs": [],
   "source": [
    "from sklearn.model_selection import train_test_split as sklearn_train_test_split\n",
    "\n",
    "def split(df):\n",
    "    \n",
    "    X= df[[i for i in list(df.columns) if i!='y']].values\n",
    "    y=df['y']\n",
    "    \n",
    "    X_train,X_test,y_train,y_test=sklearn_train_test_split(X,y,test_size=0.25,random_state=42,stratify=y)\n",
    "    \n",
    "    #Scaling the splitted data\n",
    "    scaler=StandardScaler()\n",
    "    scaler.fit(X_train)\n",
    "    X_train=scaler.transform(X_train)\n",
    "    X_test=scaler.transform(X_test)\n",
    "    return X_train,X_test,y_train,y_test\n"
   ]
  },
  {
   "cell_type": "code",
   "execution_count": 34,
   "metadata": {},
   "outputs": [],
   "source": [
    "X_train,X_test,y_train,y_test=split(modified_bank_data)"
   ]
  },
  {
   "cell_type": "markdown",
   "metadata": {},
   "source": [
    "## 4.2. Creating summary metrics"
   ]
  },
  {
   "cell_type": "code",
   "execution_count": 35,
   "metadata": {},
   "outputs": [],
   "source": [
    "#Summary metrics\n",
    "\n",
    "def summary_metrics(y_test,y_pred):\n",
    "    conf_matrix= confusion_matrix(y_test, y_pred)\n",
    "    \n",
    "    print('confusion matrix',conf_matrix)\n",
    "    \n",
    "    \n",
    "    print('Accuracy',accuracy_score(y_test,y_pred))\n",
    "    print('Precision',precision_score(y_test,y_pred))\n",
    "    print('Recall',recall_score(y_test,y_pred))\n",
    "    "
   ]
  },
  {
   "cell_type": "markdown",
   "metadata": {},
   "source": [
    "## 4.3. Fitting the baseline models"
   ]
  },
  {
   "cell_type": "code",
   "execution_count": 36,
   "metadata": {},
   "outputs": [
    {
     "name": "stdout",
     "output_type": "stream",
     "text": [
      "confusion matrix [[9007  125]\n",
      " [ 911  246]]\n",
      "Accuracy 0.8993099426572068\n",
      "Precision 0.6630727762803235\n",
      "Recall 0.212618841832325\n",
      "confusion matrix [[8266  866]\n",
      " [ 766  391]]\n",
      "Accuracy 0.8413840023325883\n",
      "Precision 0.31105807478122516\n",
      "Recall 0.337942955920484\n",
      "confusion matrix [[8865  267]\n",
      " [ 829  328]]\n",
      "Accuracy 0.8934784721547283\n",
      "Precision 0.5512605042016807\n",
      "Recall 0.28349178910976663\n"
     ]
    }
   ],
   "source": [
    "#Observing the benchmark models\n",
    "\n",
    "y_preds=[]\n",
    "classification_reports=[]\n",
    "\n",
    "\n",
    "#Creating instances for three different models\n",
    "logistic_model=LogisticRegression(max_iter=7600)\n",
    "Decisiontree_model=DecisionTreeClassifier()\n",
    "RF_model=RandomForestClassifier()\n",
    "\n",
    "list_models=[logistic_model,Decisiontree_model,RF_model]\n",
    "\n",
    "\n",
    "    #Fitting the models\n",
    "for each in list_models:\n",
    "    initial_models=each.fit(X_train,y_train)\n",
    "    y_pred=initial_models.predict(X_test)\n",
    "    y_preds.append(y_pred)\n",
    "    classification_reports.append(classification_report(y_test,y_pred))\n",
    "    summary_metrics(y_test,y_pred)\n"
   ]
  },
  {
   "cell_type": "markdown",
   "metadata": {},
   "source": [
    "It can be observed that the lowest recall is obtained in Logistic Regression(21.26%)"
   ]
  },
  {
   "cell_type": "markdown",
   "metadata": {},
   "source": [
    "### 4.2.1. Checking the model performance"
   ]
  },
  {
   "cell_type": "code",
   "execution_count": 37,
   "metadata": {},
   "outputs": [
    {
     "name": "stdout",
     "output_type": "stream",
     "text": [
      "              precision    recall  f1-score   support\n",
      "\n",
      "           0       0.91      0.99      0.95      9132\n",
      "           1       0.66      0.21      0.32      1157\n",
      "\n",
      "    accuracy                           0.90     10289\n",
      "   macro avg       0.79      0.60      0.63     10289\n",
      "weighted avg       0.88      0.90      0.88     10289\n",
      "\n",
      "              precision    recall  f1-score   support\n",
      "\n",
      "           0       0.92      0.91      0.91      9132\n",
      "           1       0.31      0.34      0.32      1157\n",
      "\n",
      "    accuracy                           0.84     10289\n",
      "   macro avg       0.61      0.62      0.62     10289\n",
      "weighted avg       0.85      0.84      0.84     10289\n",
      "\n",
      "              precision    recall  f1-score   support\n",
      "\n",
      "           0       0.91      0.97      0.94      9132\n",
      "           1       0.55      0.28      0.37      1157\n",
      "\n",
      "    accuracy                           0.89     10289\n",
      "   macro avg       0.73      0.63      0.66     10289\n",
      "weighted avg       0.87      0.89      0.88     10289\n",
      "\n"
     ]
    }
   ],
   "source": [
    "#Observing the performance of all the three models.\n",
    "for each in classification_reports:\n",
    "    print(each)"
   ]
  },
  {
   "cell_type": "markdown",
   "metadata": {},
   "source": [
    "# 4.4.  Fit the model with our improvised data."
   ]
  },
  {
   "cell_type": "markdown",
   "metadata": {},
   "source": [
    "## 4.4.1.Using sampling techniques to balance the imbalanced classes "
   ]
  },
  {
   "cell_type": "code",
   "execution_count": 38,
   "metadata": {},
   "outputs": [],
   "source": [
    "# Using SMOTE AND TOMEK Over sampling and undersampling techniques\n",
    "\n",
    "Xdash= modified_bank_data[[i for i in list(modified_bank_data.columns) if i!='y']]\n",
    "columns=Xdash.columns\n",
    "\n",
    "from imblearn.combine import SMOTETomek\n",
    "\n",
    "smt=SMOTETomek(sampling_strategy= 'auto')\n",
    "X_smt,y_smt=smt.fit_sample(X_train,y_train)\n",
    "X_smt_df=pd.DataFrame(data=X_smt,columns=columns)\n",
    "y_smt_df=pd.DataFrame(data=y_smt,columns=['y'])\n"
   ]
  },
  {
   "cell_type": "code",
   "execution_count": 39,
   "metadata": {},
   "outputs": [
    {
     "name": "stdout",
     "output_type": "stream",
     "text": [
      "Number of NO subscription in oversampled data 27198\n",
      "Number of YES subscription in oversampled data 27198\n"
     ]
    }
   ],
   "source": [
    "print('Number of NO subscription in oversampled data',len(y_smt_df[y_smt_df['y']==0]))\n",
    "print('Number of YES subscription in oversampled data',len(y_smt_df[y_smt_df['y']==1]))"
   ]
  },
  {
   "cell_type": "markdown",
   "metadata": {},
   "source": [
    "## 4.4.2. Applying Recursive Feature Elimination(RFE) with cross-fold evaluation"
   ]
  },
  {
   "cell_type": "code",
   "execution_count": 40,
   "metadata": {},
   "outputs": [],
   "source": [
    "# Applying RFE for feature selection and applying on three different models.\n",
    "#Also capturing their classification scores.\n",
    "\n",
    "\n",
    "def elimination_crossval(model):\n",
    "    \n",
    "    #Initiating the RFE instance\n",
    "    rfe=RFE(estimator=RandomForestClassifier(),n_features_to_select=10)\n",
    "    \n",
    "    #Fitting the rfe\n",
    "    X_rfe=rfe.fit_transform(X_smt,y_smt)\n",
    "    \n",
    "    #Transforming X_test\n",
    "    X_rfe_test=rfe.transform(X_test)\n",
    "    \n",
    "    model=model\n",
    "    \n",
    "    #Creating pipeling to avoid data leakage\n",
    "    pipeline=Pipeline(steps=[('s',rfe),('m',model)])\n",
    "    \n",
    "    cv=RepeatedStratifiedKFold(n_splits=10,n_repeats=3,random_state=1)\n",
    "    \n",
    "    scores =cross_val_score(pipeline,X_rfe, y_smt, scoring='accuracy', cv=cv, n_jobs=-1)\n",
    "    \n",
    "    print('Accuracy for model with cross val: %.3f (%.3f)' % (mean(scores)*100, std(scores)*100))\n",
    "    \n",
    "    #Fitting the pipeline\n",
    "    fitted_model=pipeline.fit(X_rfe,y_smt)\n",
    "    \n",
    "    y_preds=fitted_model.predict(X_rfe_test)\n",
    "    \n",
    "    #Printing the classification report\n",
    "    print(classification_report(y_test,y_preds))\n",
    "    \n",
    "    summary_metrics(y_test,y_preds)"
   ]
  },
  {
   "cell_type": "code",
   "execution_count": 41,
   "metadata": {},
   "outputs": [
    {
     "name": "stdout",
     "output_type": "stream",
     "text": [
      "Accuracy for model with cross val: 71.861 (0.465)\n",
      "              precision    recall  f1-score   support\n",
      "\n",
      "           0       0.95      0.74      0.84      9132\n",
      "           1       0.26      0.71      0.38      1157\n",
      "\n",
      "    accuracy                           0.74     10289\n",
      "   macro avg       0.61      0.73      0.61     10289\n",
      "weighted avg       0.88      0.74      0.79     10289\n",
      "\n",
      "confusion matrix [[6800 2332]\n",
      " [ 330  827]]\n",
      "Accuracy 0.7412770920400428\n",
      "Precision 0.26179170623615067\n",
      "Recall 0.7147796024200519\n"
     ]
    }
   ],
   "source": [
    "#Logistic Model\n",
    "elimination_crossval(LogisticRegression(max_iter=7600))"
   ]
  },
  {
   "cell_type": "code",
   "execution_count": 42,
   "metadata": {},
   "outputs": [
    {
     "name": "stdout",
     "output_type": "stream",
     "text": [
      "Accuracy for model with cross val: 90.279 (0.400)\n",
      "              precision    recall  f1-score   support\n",
      "\n",
      "           0       0.91      0.92      0.92      9132\n",
      "           1       0.33      0.30      0.31      1157\n",
      "\n",
      "    accuracy                           0.85     10289\n",
      "   macro avg       0.62      0.61      0.62     10289\n",
      "weighted avg       0.85      0.85      0.85     10289\n",
      "\n",
      "confusion matrix [[8407  725]\n",
      " [ 807  350]]\n",
      "Accuracy 0.8511031198367188\n",
      "Precision 0.32558139534883723\n",
      "Recall 0.3025064822817632\n"
     ]
    }
   ],
   "source": [
    "#Decision tree \n",
    "elimination_crossval(DecisionTreeClassifier())"
   ]
  },
  {
   "cell_type": "code",
   "execution_count": 43,
   "metadata": {},
   "outputs": [
    {
     "name": "stdout",
     "output_type": "stream",
     "text": [
      "Accuracy for model with cross val: 91.516 (0.250)\n",
      "              precision    recall  f1-score   support\n",
      "\n",
      "           0       0.92      0.93      0.93      9132\n",
      "           1       0.39      0.34      0.36      1157\n",
      "\n",
      "    accuracy                           0.87     10289\n",
      "   macro avg       0.65      0.64      0.64     10289\n",
      "weighted avg       0.86      0.87      0.86     10289\n",
      "\n",
      "confusion matrix [[8520  612]\n",
      " [ 764  393]]\n",
      "Accuracy 0.8662649431431626\n",
      "Precision 0.39104477611940297\n",
      "Recall 0.33967156439066554\n"
     ]
    }
   ],
   "source": [
    "#Random forest\n",
    "elimination_crossval(RandomForestClassifier())"
   ]
  },
  {
   "cell_type": "markdown",
   "metadata": {},
   "source": [
    "From all the three classification models above it can be observed that the highest recall is observed in logistic regression model and lowest in Decision tree classifier."
   ]
  },
  {
   "cell_type": "markdown",
   "metadata": {},
   "source": [
    "# 5. Descibing important features"
   ]
  },
  {
   "cell_type": "code",
   "execution_count": 44,
   "metadata": {},
   "outputs": [],
   "source": [
    "def important_features(estimator,n_features_to_select):\n",
    "    \n",
    "    rfe=RFE(estimator=estimator, n_features_to_select=n_features_to_select)\n",
    "    X_rfe=rfe.fit_transform(X_smt,y_smt)\n",
    "\n",
    "\n",
    "    columns = X_smt_df.columns\n",
    "    val = pd.Series(rfe.support_,index = columns)\n",
    "    features_chosen_rfe = val[val==True].index \n",
    "    print(features_chosen_rfe)"
   ]
  },
  {
   "cell_type": "code",
   "execution_count": 45,
   "metadata": {},
   "outputs": [
    {
     "name": "stdout",
     "output_type": "stream",
     "text": [
      "Index(['age', 'campaign', 'euribor3m', 'nr.employed'], dtype='object')\n"
     ]
    }
   ],
   "source": [
    "important_features(RandomForestClassifier(),4)"
   ]
  },
  {
   "cell_type": "code",
   "execution_count": 46,
   "metadata": {},
   "outputs": [],
   "source": [
    "modified_bank_data.to_csv('BANK_DATA',index=False)"
   ]
  },
  {
   "cell_type": "markdown",
   "metadata": {},
   "source": [
    "# 6. Results"
   ]
  },
  {
   "cell_type": "markdown",
   "metadata": {},
   "source": [
    "\n",
    " 1.For our business problem, we wanted to predict the term subscription based on a campaign so it is vital to have a high recall to have higher revenue. For that, it is important to choose a model with better recall and less false negatives, hence we choose the Logistic Model to better classify the customer term deposit prediction.\n",
    " \n",
    "2.The improvised logistic model results in 70.29% better recall than the baseline logistic model.\n",
    "\n",
    "\n",
    "3.All the model's classification report that we have got still indicate the maximum classification of the majority class(0). This tells us that there is more scope for model optimization or the use of different classification unsupervised learning models.\n",
    "\n",
    "\n",
    "4.For every false positive the bank will be spending money and investing in other revenue-generating sources. On the other hand, the bank will lose its customer trust and the possibility of losing the customer when the resources would also have been utilized.\n",
    "\n",
    "\n",
    "5.For every false negative the bank has the possibility of losing out a potential customer.\n",
    "\n",
    "\n",
    "6.For the marketing campaign, its very important for the bank to get in more customers to subscribe for the term deposit so that the bank can get more revenue, if in this case, the bank starts to lose out on customers in other words the bank would not want customer churn as a result of the output of the marketing campaign. So, it's important to have less False Negatives."
   ]
  },
  {
   "cell_type": "markdown",
   "metadata": {},
   "source": [
    "# 7.Actionable Recommendations"
   ]
  },
  {
   "cell_type": "markdown",
   "metadata": {},
   "source": [
    "##### Observing the results and the exploratory data analysis, the most important features which the bank should focus on to attract more customers to buy term deposit are:\n",
    "\n",
    "1. Duration\n",
    "2. age\n",
    "3. campaign\n",
    "4. Euribo3\n",
    "5. nr.employed\n",
    "\n",
    "\n",
    "1.Duration being one of the most influential factors,i.e. the higher the call duration the higher the chances of a sale. So the bank should focus on enhancing the quality of calls by building a rapport with the customers, decreasing wait time, checking in with the customers, and most importantly take feedback from the customers.\n",
    "\n",
    "\n",
    "2.Age feature demonstrates that the majority term deposit purchasing capacity lies within the age group of 25-58 yrs adults. So, the bank should target this age group more and allocate more resources in getting in the customers from this particular age group.\n",
    "\n",
    "\n",
    "3.Campaign feature is important as it indicates the number of calls made during the current campaign. The customers do not like to get bothered with too many calls so a sweet spot lies within 1-5 calls, again depending upon the interest of the customer. So the bank should focus on training the sales team so that they can know the interested and non-interested customers based on the behavior,voice modulations, tone, and pitch of the customer.\n",
    "\n",
    "\n",
    "4.Euribo3 is indicative of the trend that the higher interest rates attract more customers. So there are two things which the bank can pursue which are as follows:\n",
    "   -Target the age group which is liable to get higher interest rates (4.5-5) particularly.\n",
    "   -Increase the marketing campaign when the interest rates are higher, which can help in bringing more clients on board with the term deposits.\n",
    "   \n",
    "   \n",
    "5.nr.employed trend indicates that more number of employees leads to more number of customers, which makes sense because if there are more employees, more leads can be targeted, proper followups and check-ins can be done. On the other hand, customer satisfaction could be achieved by creating a dedicated after-sales team. So, the bank should focus on hiring more people.\n",
    "\n"
   ]
  }
 ],
 "metadata": {
  "kernelspec": {
   "display_name": "Python 3",
   "language": "python",
   "name": "python3"
  },
  "language_info": {
   "codemirror_mode": {
    "name": "ipython",
    "version": 3
   },
   "file_extension": ".py",
   "mimetype": "text/x-python",
   "name": "python",
   "nbconvert_exporter": "python",
   "pygments_lexer": "ipython3",
   "version": "3.7.6"
  }
 },
 "nbformat": 4,
 "nbformat_minor": 4
}
